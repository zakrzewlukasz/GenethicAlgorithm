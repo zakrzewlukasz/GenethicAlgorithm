{
 "cells": [
  {
   "cell_type": "code",
   "execution_count": 6,
   "metadata": {},
   "outputs": [
    {
     "name": "stdout",
     "output_type": "stream",
     "text": [
      "Building container...\n",
      "Cannot connect to the Docker daemon at unix:///var/run/docker.sock. Is the docker daemon running?\n",
      "WARNING! Your password will be stored unencrypted in /Users/lukaszzakrzewski/.docker/config.json.\n",
      "Configure a credential helper to remove this warning. See\n",
      "https://docs.docker.com/engine/reference/commandline/login/#credentials-store\n",
      "\n",
      "Login Succeeded\n",
      "{\n",
      "    \"repository\": {\n",
      "        \"repositoryArn\": \"arn:aws:ecr:eu-central-1:644215702318:repository/sagemaker-processing-container-genethic-algo\",\n",
      "        \"registryId\": \"644215702318\",\n",
      "        \"repositoryName\": \"sagemaker-processing-container-genethic-algo\",\n",
      "        \"repositoryUri\": \"644215702318.dkr.ecr.eu-central-1.amazonaws.com/sagemaker-processing-container-genethic-algo\",\n",
      "        \"createdAt\": \"2022-07-01T17:47:32+02:00\",\n",
      "        \"imageTagMutability\": \"MUTABLE\",\n",
      "        \"imageScanningConfiguration\": {\n",
      "            \"scanOnPush\": false\n",
      "        },\n",
      "        \"encryptionConfiguration\": {\n",
      "            \"encryptionType\": \"AES256\"\n",
      "        }\n",
      "    }\n",
      "}\n",
      "Cannot connect to the Docker daemon at unix:///var/run/docker.sock. Is the docker daemon running?\n",
      "Cannot connect to the Docker daemon at unix:///var/run/docker.sock. Is the docker daemon running?\n",
      "Container Build done\n"
     ]
    }
   ],
   "source": [
    "import boto3\n",
    "\n",
    "print(\"Building container...\")\n",
    "\n",
    "region = boto3.session.Session().region_name\n",
    "account_id = boto3.client('sts').get_caller_identity().get('Account')\n",
    "ecr_repository = 'sagemaker-processing-container-genethic-algo'\n",
    "tag = ':latest'\n",
    "base_uri = '{}.dkr.ecr.{}.amazonaws.com'.format(account_id, region)\n",
    "repo_uri = '{}/{}'.format(base_uri, ecr_repository + tag)\n",
    "\n",
    "# Create ECR repository and push docker image\n",
    "#Instlacja on mac brew install docker\n",
    "!docker build -t $ecr_repository docker\n",
    "!aws ecr get-login-password --region $region | docker login --username AWS --password-stdin $base_uri\n",
    "!aws ecr create-repository --repository-name $ecr_repository\n",
    "!docker tag {ecr_repository + tag} $repo_uri\n",
    "!docker push $repo_uri\n",
    "\n",
    "print(\"Container Build done\")\n",
    "\n",
    "iam_role = 'arn:aws:iam::644215702318:role/GenethicAlgorithm-GeneticAlgorithmExecutionRole-OWPCDJ2460X5'"
   ]
  }
 ],
 "metadata": {
  "kernelspec": {
   "display_name": "Python 3.8.9 64-bit",
   "language": "python",
   "name": "python3"
  },
  "language_info": {
   "codemirror_mode": {
    "name": "ipython",
    "version": 3
   },
   "file_extension": ".py",
   "mimetype": "text/x-python",
   "name": "python",
   "nbconvert_exporter": "python",
   "pygments_lexer": "ipython3",
   "version": "3.8.9"
  },
  "orig_nbformat": 4,
  "vscode": {
   "interpreter": {
    "hash": "31f2aee4e71d21fbe5cf8b01ff0e069b9275f58929596ceb00d14d90e3e16cd6"
   }
  }
 },
 "nbformat": 4,
 "nbformat_minor": 2
}
